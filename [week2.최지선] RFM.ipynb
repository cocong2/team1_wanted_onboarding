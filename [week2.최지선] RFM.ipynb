{
 "cells": [
  {
   "cell_type": "markdown",
   "metadata": {},
   "source": [
    "## 라이브러리"
   ]
  },
  {
   "cell_type": "code",
   "execution_count": null,
   "metadata": {},
   "outputs": [],
   "source": [
    "import pandas as pd\n",
    "import numpy as np"
   ]
  },
  {
   "cell_type": "markdown",
   "metadata": {},
   "source": [
    "## 데이터 보기"
   ]
  },
  {
   "cell_type": "code",
   "execution_count": 45,
   "metadata": {},
   "outputs": [],
   "source": [
    "df = pd.read_table('./price_column_added.txt',sep=',') ## 경로는 각자 상황에 맞게 넣어주세요"
   ]
  },
  {
   "cell_type": "code",
   "execution_count": 4,
   "metadata": {},
   "outputs": [
    {
     "data": {
      "text/html": [
       "<div>\n",
       "<style scoped>\n",
       "    .dataframe tbody tr th:only-of-type {\n",
       "        vertical-align: middle;\n",
       "    }\n",
       "\n",
       "    .dataframe tbody tr th {\n",
       "        vertical-align: top;\n",
       "    }\n",
       "\n",
       "    .dataframe thead th {\n",
       "        text-align: right;\n",
       "    }\n",
       "</style>\n",
       "<table border=\"1\" class=\"dataframe\">\n",
       "  <thead>\n",
       "    <tr style=\"text-align: right;\">\n",
       "      <th></th>\n",
       "      <th>Unnamed: 0</th>\n",
       "      <th>USER_ID</th>\n",
       "      <th>JOIN_DATE</th>\n",
       "      <th>D_TYPE</th>\n",
       "      <th>STORE_ID</th>\n",
       "      <th>GOODS_TYPE</th>\n",
       "      <th>DATE</th>\n",
       "      <th>COUNT</th>\n",
       "      <th>AD1</th>\n",
       "      <th>PRICE</th>\n",
       "    </tr>\n",
       "  </thead>\n",
       "  <tbody>\n",
       "    <tr>\n",
       "      <td>0</td>\n",
       "      <td>0</td>\n",
       "      <td>2858</td>\n",
       "      <td>2014-01-07</td>\n",
       "      <td>AA</td>\n",
       "      <td>1892</td>\n",
       "      <td>A</td>\n",
       "      <td>2020-01-01</td>\n",
       "      <td>1</td>\n",
       "      <td>GN</td>\n",
       "      <td>9018.160</td>\n",
       "    </tr>\n",
       "    <tr>\n",
       "      <td>1</td>\n",
       "      <td>1</td>\n",
       "      <td>5647</td>\n",
       "      <td>2014-02-14</td>\n",
       "      <td>BB</td>\n",
       "      <td>182009</td>\n",
       "      <td>A</td>\n",
       "      <td>2020-01-01</td>\n",
       "      <td>1</td>\n",
       "      <td>J</td>\n",
       "      <td>9018.160</td>\n",
       "    </tr>\n",
       "    <tr>\n",
       "      <td>2</td>\n",
       "      <td>2</td>\n",
       "      <td>33314</td>\n",
       "      <td>2014-11-20</td>\n",
       "      <td>BB</td>\n",
       "      <td>82431</td>\n",
       "      <td>A</td>\n",
       "      <td>2020-01-01</td>\n",
       "      <td>1</td>\n",
       "      <td>SC</td>\n",
       "      <td>9018.160</td>\n",
       "    </tr>\n",
       "    <tr>\n",
       "      <td>3</td>\n",
       "      <td>3</td>\n",
       "      <td>37001</td>\n",
       "      <td>2014-12-04</td>\n",
       "      <td>BB</td>\n",
       "      <td>725</td>\n",
       "      <td>C</td>\n",
       "      <td>2020-01-01</td>\n",
       "      <td>1</td>\n",
       "      <td>MP</td>\n",
       "      <td>7376.125</td>\n",
       "    </tr>\n",
       "    <tr>\n",
       "      <td>4</td>\n",
       "      <td>4</td>\n",
       "      <td>37819</td>\n",
       "      <td>2014-12-07</td>\n",
       "      <td>AA</td>\n",
       "      <td>220691</td>\n",
       "      <td>C</td>\n",
       "      <td>2020-01-01</td>\n",
       "      <td>1</td>\n",
       "      <td>JRR</td>\n",
       "      <td>7376.125</td>\n",
       "    </tr>\n",
       "  </tbody>\n",
       "</table>\n",
       "</div>"
      ],
      "text/plain": [
       "   Unnamed: 0  USER_ID   JOIN_DATE D_TYPE  STORE_ID GOODS_TYPE        DATE  \\\n",
       "0           0     2858  2014-01-07     AA      1892          A  2020-01-01   \n",
       "1           1     5647  2014-02-14     BB    182009          A  2020-01-01   \n",
       "2           2    33314  2014-11-20     BB     82431          A  2020-01-01   \n",
       "3           3    37001  2014-12-04     BB       725          C  2020-01-01   \n",
       "4           4    37819  2014-12-07     AA    220691          C  2020-01-01   \n",
       "\n",
       "   COUNT  AD1     PRICE  \n",
       "0      1   GN  9018.160  \n",
       "1      1    J  9018.160  \n",
       "2      1   SC  9018.160  \n",
       "3      1   MP  7376.125  \n",
       "4      1  JRR  7376.125  "
      ]
     },
     "execution_count": 4,
     "metadata": {},
     "output_type": "execute_result"
    }
   ],
   "source": [
    "df.head()"
   ]
  },
  {
   "cell_type": "code",
   "execution_count": 2,
   "metadata": {
    "scrolled": false
   },
   "outputs": [
    {
     "name": "stdout",
     "output_type": "stream",
     "text": [
      "Unnamed: 0\n",
      "USER_ID\n",
      "JOIN_DATE\n",
      "D_TYPE\n",
      "STORE_ID\n",
      "GOODS_TYPE\n",
      "DATE\n",
      "COUNT\n",
      "AD1\n",
      "PRICE\n"
     ]
    }
   ],
   "source": [
    "## 칼럼보기\n",
    "\n",
    "for col in df.columns:\n",
    "    print(col)"
   ]
  },
  {
   "cell_type": "markdown",
   "metadata": {},
   "source": [
    "## 데이터 전처리"
   ]
  },
  {
   "cell_type": "code",
   "execution_count": 10,
   "metadata": {},
   "outputs": [],
   "source": [
    "## 문자열로된 날짜를 Timestamp형식으로 변환\n",
    "df['JOIN_DATE'] = pd.to_datetime(df['JOIN_DATE'])\n",
    "df['DATE'] = pd.to_datetime(df['DATE'])"
   ]
  },
  {
   "cell_type": "code",
   "execution_count": 6,
   "metadata": {},
   "outputs": [],
   "source": [
    "## Unnamed: 0 컬럼 drop\n",
    "\n",
    "df = df.drop(\"Unnamed: 0\", axis=1)"
   ]
  },
  {
   "cell_type": "code",
   "execution_count": 47,
   "metadata": {},
   "outputs": [
    {
     "name": "stdout",
     "output_type": "stream",
     "text": [
      "행 개수 :  879271\n"
     ]
    },
    {
     "data": {
      "text/plain": [
       "Unnamed: 0    0\n",
       "USER_ID       0\n",
       "JOIN_DATE     0\n",
       "D_TYPE        0\n",
       "STORE_ID      0\n",
       "GOODS_TYPE    0\n",
       "DATE          0\n",
       "COUNT         0\n",
       "AD1           0\n",
       "PRICE         0\n",
       "dtype: int64"
      ]
     },
     "execution_count": 47,
     "metadata": {},
     "output_type": "execute_result"
    }
   ],
   "source": [
    "## 데이터 크기와 결측치 확인\n",
    "\n",
    "print('행 개수 : ',len(df)) ## 데이터 개수\n",
    "df.isnull().sum() ## 결측치 확인"
   ]
  },
  {
   "cell_type": "markdown",
   "metadata": {},
   "source": [
    "## 데이터 분석"
   ]
  },
  {
   "cell_type": "code",
   "execution_count": 12,
   "metadata": {},
   "outputs": [
    {
     "name": "stderr",
     "output_type": "stream",
     "text": [
      "Calculating amount of individual customer: 100%|█| 165425/165425 [33:21<00:00, 82.64it/s] \n"
     ]
    }
   ],
   "source": [
    "from tqdm import tqdm\n",
    " \n",
    "customer_id = list(df['USER_ID'].unique()) ## 유저아이디\n",
    " \n",
    "## 먼저 각 유저아이디별로 구매금액이 얼마인지 알아보자.\n",
    "monetary_df = pd.DataFrame()          ## 구매금액 데이터 초기화\n",
    "monetary_df['USER_ID'] = customer_id  ## 유저아이디 삽입\n",
    " \n",
    "monetary_data = []  ## 구매금액을 담을 리스트\n",
    "for ci in tqdm(customer_id,position=0,desc='Calculating amount of individual customer'):\n",
    "    temp = df.query('USER_ID==@ci')             ## 해당 아이디의 유저데이터 추출\n",
    "    amount = sum(temp['COUNT'] * temp['PRICE']) ## 해당 유저 구매금액\n",
    "    monetary_data.append(amount)\n",
    "    \n",
    "monetary_df['Monetary'] = monetary_data  ## 구매금액 데이터 삽입\n",
    " \n",
    "## 각 유저별 최근방문일을 알아보자.\n",
    "temp_recency_df = df[['USER_ID','DATE']].drop_duplicates()      ## 유저 아이디와 결제날짜만 추출한뒤 중복 제거\n",
    "recency_df = temp_recency_df.groupby('USER_ID')['DATE'].max().reset_index() ## 아이디로 그룹화 한다음 최근방문일을 구해야 하므로 결제날짜에 max를 적용한다.\n",
    "recency_df = recency_df.rename(columns={'DATE':'Recency'})\n",
    " \n",
    "## 각 유저별 방문횟수를 알아보자.\n",
    "frequency_df = df.groupby('USER_ID')['DATE'].count().reset_index() ## 아이디로 그룹화 한다음 방문횟수를 구해야 한다. 여기서는 방문횟수를 결제날짜 개수로 생각했으므로 결제날짜에 count를 적용한다.\n",
    "frequency_df = frequency_df.rename(columns={'DATE':'Frequency'})\n",
    " \n",
    "## 데이터를 유저아이디를 기준으로 합쳐야한다.\n",
    "rfm_df = pd.merge(recency_df,frequency_df,how='left',on='USER_ID')\n",
    "rfm_df = pd.merge(rfm_df,monetary_df,how='left',on='USER_ID')"
   ]
  },
  {
   "cell_type": "code",
   "execution_count": 13,
   "metadata": {},
   "outputs": [
    {
     "data": {
      "text/html": [
       "<div>\n",
       "<style scoped>\n",
       "    .dataframe tbody tr th:only-of-type {\n",
       "        vertical-align: middle;\n",
       "    }\n",
       "\n",
       "    .dataframe tbody tr th {\n",
       "        vertical-align: top;\n",
       "    }\n",
       "\n",
       "    .dataframe thead th {\n",
       "        text-align: right;\n",
       "    }\n",
       "</style>\n",
       "<table border=\"1\" class=\"dataframe\">\n",
       "  <thead>\n",
       "    <tr style=\"text-align: right;\">\n",
       "      <th></th>\n",
       "      <th>USER_ID</th>\n",
       "      <th>Recency</th>\n",
       "      <th>Frequency</th>\n",
       "      <th>Monetary</th>\n",
       "    </tr>\n",
       "  </thead>\n",
       "  <tbody>\n",
       "    <tr>\n",
       "      <td>0</td>\n",
       "      <td>224</td>\n",
       "      <td>2020-12-09</td>\n",
       "      <td>2</td>\n",
       "      <td>16394.285</td>\n",
       "    </tr>\n",
       "    <tr>\n",
       "      <td>1</td>\n",
       "      <td>232</td>\n",
       "      <td>2020-11-18</td>\n",
       "      <td>23</td>\n",
       "      <td>190537.495</td>\n",
       "    </tr>\n",
       "    <tr>\n",
       "      <td>2</td>\n",
       "      <td>342</td>\n",
       "      <td>2020-10-31</td>\n",
       "      <td>1</td>\n",
       "      <td>9018.160</td>\n",
       "    </tr>\n",
       "    <tr>\n",
       "      <td>3</td>\n",
       "      <td>565</td>\n",
       "      <td>2020-11-12</td>\n",
       "      <td>2</td>\n",
       "      <td>8558.325</td>\n",
       "    </tr>\n",
       "    <tr>\n",
       "      <td>4</td>\n",
       "      <td>729</td>\n",
       "      <td>2020-09-05</td>\n",
       "      <td>1</td>\n",
       "      <td>9018.160</td>\n",
       "    </tr>\n",
       "    <tr>\n",
       "      <td>...</td>\n",
       "      <td>...</td>\n",
       "      <td>...</td>\n",
       "      <td>...</td>\n",
       "      <td>...</td>\n",
       "    </tr>\n",
       "    <tr>\n",
       "      <td>165420</td>\n",
       "      <td>1830551</td>\n",
       "      <td>2020-12-31</td>\n",
       "      <td>1</td>\n",
       "      <td>1182.200</td>\n",
       "    </tr>\n",
       "    <tr>\n",
       "      <td>165421</td>\n",
       "      <td>1830570</td>\n",
       "      <td>2020-12-31</td>\n",
       "      <td>1</td>\n",
       "      <td>1182.200</td>\n",
       "    </tr>\n",
       "    <tr>\n",
       "      <td>165422</td>\n",
       "      <td>1830580</td>\n",
       "      <td>2020-12-31</td>\n",
       "      <td>1</td>\n",
       "      <td>1182.200</td>\n",
       "    </tr>\n",
       "    <tr>\n",
       "      <td>165423</td>\n",
       "      <td>1830589</td>\n",
       "      <td>2020-12-31</td>\n",
       "      <td>1</td>\n",
       "      <td>1182.200</td>\n",
       "    </tr>\n",
       "    <tr>\n",
       "      <td>165424</td>\n",
       "      <td>1830598</td>\n",
       "      <td>2020-12-31</td>\n",
       "      <td>1</td>\n",
       "      <td>1182.200</td>\n",
       "    </tr>\n",
       "  </tbody>\n",
       "</table>\n",
       "<p>165425 rows × 4 columns</p>\n",
       "</div>"
      ],
      "text/plain": [
       "        USER_ID    Recency  Frequency    Monetary\n",
       "0           224 2020-12-09          2   16394.285\n",
       "1           232 2020-11-18         23  190537.495\n",
       "2           342 2020-10-31          1    9018.160\n",
       "3           565 2020-11-12          2    8558.325\n",
       "4           729 2020-09-05          1    9018.160\n",
       "...         ...        ...        ...         ...\n",
       "165420  1830551 2020-12-31          1    1182.200\n",
       "165421  1830570 2020-12-31          1    1182.200\n",
       "165422  1830580 2020-12-31          1    1182.200\n",
       "165423  1830589 2020-12-31          1    1182.200\n",
       "165424  1830598 2020-12-31          1    1182.200\n",
       "\n",
       "[165425 rows x 4 columns]"
      ]
     },
     "execution_count": 13,
     "metadata": {},
     "output_type": "execute_result"
    }
   ],
   "source": [
    "## RFM 데이터프레임 확인\n",
    "\n",
    "rfm_df"
   ]
  },
  {
   "cell_type": "code",
   "execution_count": 14,
   "metadata": {},
   "outputs": [],
   "source": [
    "## 데이터 변환(날짜를 수치로 표현하기 위한)\n",
    "\n",
    "current_day = pd.to_datetime('20200101')## 기준 날짜는 2020년 1월 1일\n",
    "time_diff = rfm_df['Recency']-current_day ## 최근방문일과 기준 날짜의 시간 차이"
   ]
  },
  {
   "cell_type": "code",
   "execution_count": 15,
   "metadata": {},
   "outputs": [
    {
     "data": {
      "text/plain": [
       "0        343 days\n",
       "1        322 days\n",
       "2        304 days\n",
       "3        316 days\n",
       "4        248 days\n",
       "           ...   \n",
       "165420   365 days\n",
       "165421   365 days\n",
       "165422   365 days\n",
       "165423   365 days\n",
       "165424   365 days\n",
       "Name: Recency, Length: 165425, dtype: timedelta64[ns]"
      ]
     },
     "execution_count": 15,
     "metadata": {},
     "output_type": "execute_result"
    }
   ],
   "source": [
    "time_diff"
   ]
  },
  {
   "cell_type": "code",
   "execution_count": 18,
   "metadata": {},
   "outputs": [],
   "source": [
    "time_in_seconds = [x.total_seconds() for x in time_diff]  ## 시간 차이를 초단위로 계산\n",
    "rfm_df['Recency'] = time_in_seconds   ## 변환된 데이터를 다시 삽입"
   ]
  },
  {
   "cell_type": "markdown",
   "metadata": {},
   "source": [
    "### 최종 RFM 데이터프레임"
   ]
  },
  {
   "cell_type": "code",
   "execution_count": 19,
   "metadata": {
    "scrolled": true
   },
   "outputs": [
    {
     "data": {
      "text/html": [
       "<div>\n",
       "<style scoped>\n",
       "    .dataframe tbody tr th:only-of-type {\n",
       "        vertical-align: middle;\n",
       "    }\n",
       "\n",
       "    .dataframe tbody tr th {\n",
       "        vertical-align: top;\n",
       "    }\n",
       "\n",
       "    .dataframe thead th {\n",
       "        text-align: right;\n",
       "    }\n",
       "</style>\n",
       "<table border=\"1\" class=\"dataframe\">\n",
       "  <thead>\n",
       "    <tr style=\"text-align: right;\">\n",
       "      <th></th>\n",
       "      <th>USER_ID</th>\n",
       "      <th>Recency</th>\n",
       "      <th>Frequency</th>\n",
       "      <th>Monetary</th>\n",
       "    </tr>\n",
       "  </thead>\n",
       "  <tbody>\n",
       "    <tr>\n",
       "      <td>0</td>\n",
       "      <td>224</td>\n",
       "      <td>29635200.0</td>\n",
       "      <td>2</td>\n",
       "      <td>16394.285</td>\n",
       "    </tr>\n",
       "    <tr>\n",
       "      <td>1</td>\n",
       "      <td>232</td>\n",
       "      <td>27820800.0</td>\n",
       "      <td>23</td>\n",
       "      <td>190537.495</td>\n",
       "    </tr>\n",
       "    <tr>\n",
       "      <td>2</td>\n",
       "      <td>342</td>\n",
       "      <td>26265600.0</td>\n",
       "      <td>1</td>\n",
       "      <td>9018.160</td>\n",
       "    </tr>\n",
       "    <tr>\n",
       "      <td>3</td>\n",
       "      <td>565</td>\n",
       "      <td>27302400.0</td>\n",
       "      <td>2</td>\n",
       "      <td>8558.325</td>\n",
       "    </tr>\n",
       "    <tr>\n",
       "      <td>4</td>\n",
       "      <td>729</td>\n",
       "      <td>21427200.0</td>\n",
       "      <td>1</td>\n",
       "      <td>9018.160</td>\n",
       "    </tr>\n",
       "    <tr>\n",
       "      <td>...</td>\n",
       "      <td>...</td>\n",
       "      <td>...</td>\n",
       "      <td>...</td>\n",
       "      <td>...</td>\n",
       "    </tr>\n",
       "    <tr>\n",
       "      <td>165420</td>\n",
       "      <td>1830551</td>\n",
       "      <td>31536000.0</td>\n",
       "      <td>1</td>\n",
       "      <td>1182.200</td>\n",
       "    </tr>\n",
       "    <tr>\n",
       "      <td>165421</td>\n",
       "      <td>1830570</td>\n",
       "      <td>31536000.0</td>\n",
       "      <td>1</td>\n",
       "      <td>1182.200</td>\n",
       "    </tr>\n",
       "    <tr>\n",
       "      <td>165422</td>\n",
       "      <td>1830580</td>\n",
       "      <td>31536000.0</td>\n",
       "      <td>1</td>\n",
       "      <td>1182.200</td>\n",
       "    </tr>\n",
       "    <tr>\n",
       "      <td>165423</td>\n",
       "      <td>1830589</td>\n",
       "      <td>31536000.0</td>\n",
       "      <td>1</td>\n",
       "      <td>1182.200</td>\n",
       "    </tr>\n",
       "    <tr>\n",
       "      <td>165424</td>\n",
       "      <td>1830598</td>\n",
       "      <td>31536000.0</td>\n",
       "      <td>1</td>\n",
       "      <td>1182.200</td>\n",
       "    </tr>\n",
       "  </tbody>\n",
       "</table>\n",
       "<p>165425 rows × 4 columns</p>\n",
       "</div>"
      ],
      "text/plain": [
       "        USER_ID     Recency  Frequency    Monetary\n",
       "0           224  29635200.0          2   16394.285\n",
       "1           232  27820800.0         23  190537.495\n",
       "2           342  26265600.0          1    9018.160\n",
       "3           565  27302400.0          2    8558.325\n",
       "4           729  21427200.0          1    9018.160\n",
       "...         ...         ...        ...         ...\n",
       "165420  1830551  31536000.0          1    1182.200\n",
       "165421  1830570  31536000.0          1    1182.200\n",
       "165422  1830580  31536000.0          1    1182.200\n",
       "165423  1830589  31536000.0          1    1182.200\n",
       "165424  1830598  31536000.0          1    1182.200\n",
       "\n",
       "[165425 rows x 4 columns]"
      ]
     },
     "execution_count": 19,
     "metadata": {},
     "output_type": "execute_result"
    }
   ],
   "source": [
    "rfm_df"
   ]
  },
  {
   "cell_type": "markdown",
   "metadata": {},
   "source": [
    "### 점수 매기기 위한 구간 설정"
   ]
  },
  {
   "cell_type": "code",
   "execution_count": 26,
   "metadata": {},
   "outputs": [
    {
     "name": "stdout",
     "output_type": "stream",
     "text": [
      "구분값 : 6307200.0\n",
      "구분값 : 12614400.0\n",
      "구분값 : 18921600.0\n",
      "구분값 : 25228800.0\n"
     ]
    }
   ],
   "source": [
    "## Recency 구분값(5구간) - (최소,최대값 기준)\n",
    "\n",
    "Recency_list = []\n",
    "for x in np.linspace(np.min(rfm_df['Recency']),np.max(rfm_df['Recency']),6)[1:-1]:\n",
    "    Recency_list.append(x)\n",
    "    print(f'구분값 : {x}')"
   ]
  },
  {
   "cell_type": "code",
   "execution_count": 44,
   "metadata": {},
   "outputs": [
    {
     "data": {
      "text/plain": [
       "[11145600.0, 18748800.0, 25056000.0, 28512000.0]"
      ]
     },
     "execution_count": 44,
     "metadata": {},
     "output_type": "execute_result"
    }
   ],
   "source": [
    "## Recency 구분값(5구간) - (분위수 기준)\n",
    " \n",
    "Recency_list2 = [] ## 분위수를 담을 리스트\n",
    "for ql in np.linspace(0,1,6)[1:-1]:\n",
    "    Recency_list2.append(np.quantile(rfm_df['Recency'],ql))\n",
    "Recency_list2"
   ]
  },
  {
   "cell_type": "code",
   "execution_count": 27,
   "metadata": {},
   "outputs": [
    {
     "name": "stdout",
     "output_type": "stream",
     "text": [
      "구분값 : 74.0\n",
      "구분값 : 147.0\n",
      "구분값 : 220.0\n",
      "구분값 : 293.0\n"
     ]
    }
   ],
   "source": [
    "## Frequency 구분값(5구간) - (최소,최대값 기준)\n",
    "\n",
    "Frequency_list = []\n",
    "for x in np.linspace(np.min(rfm_df['Frequency']),np.max(rfm_df['Frequency']),6)[1:-1]:\n",
    "    Frequency_list.append(x)\n",
    "    print(f'구분값 : {x}')"
   ]
  },
  {
   "cell_type": "code",
   "execution_count": 49,
   "metadata": {},
   "outputs": [
    {
     "data": {
      "text/plain": [
       "[1.0, 1.0, 2.0, 6.0]"
      ]
     },
     "execution_count": 49,
     "metadata": {},
     "output_type": "execute_result"
    }
   ],
   "source": [
    "## Frequency 구분값(5구간) - (분위수 기준)\n",
    " \n",
    "Frequency_list2 = [] ## 분위수를 담을 리스트\n",
    "for ql in np.linspace(0,1,6)[1:-1]:\n",
    "    Frequency_list2.append(np.quantile(rfm_df['Frequency'],ql))\n",
    "Frequency_list2"
   ]
  },
  {
   "cell_type": "code",
   "execution_count": 28,
   "metadata": {},
   "outputs": [
    {
     "name": "stdout",
     "output_type": "stream",
     "text": [
      "구분값 : 21923954.536\n",
      "구분값 : 43846726.872\n",
      "구분값 : 65769499.208000004\n",
      "구분값 : 87692271.544\n"
     ]
    }
   ],
   "source": [
    "## Monetary 구분값(5구간) - (최소,최대값 기준)\n",
    "\n",
    "Monetary_list = []\n",
    "for x in np.linspace(np.min(rfm_df['Monetary']),np.max(rfm_df['Monetary']),6)[1:-1]:\n",
    "    Monetary_list.append(x)\n",
    "    print(f'구분값 : {x}')"
   ]
  },
  {
   "cell_type": "code",
   "execution_count": 50,
   "metadata": {},
   "outputs": [
    {
     "data": {
      "text/plain": [
       "[7376.125, 9018.16, 18036.32, 54108.96000000001]"
      ]
     },
     "execution_count": 50,
     "metadata": {},
     "output_type": "execute_result"
    }
   ],
   "source": [
    "## Monetary 구분값(5구간) - (분위수 기준)\n",
    " \n",
    "Monetary_list2 = [] ## 분위수를 담을 리스트\n",
    "for ql in np.linspace(0,1,6)[1:-1]:\n",
    "    Monetary_list2.append(np.quantile(rfm_df['Monetary'],ql))\n",
    "Monetary_list2"
   ]
  },
  {
   "cell_type": "markdown",
   "metadata": {},
   "source": [
    "## 데이터에 점수를 매겨주는 함수"
   ]
  },
  {
   "cell_type": "code",
   "execution_count": 51,
   "metadata": {},
   "outputs": [],
   "source": [
    "def get_score(level, data):\n",
    "    '''\n",
    "    Description :\n",
    "    level안에 있는 원소를 기준으로\n",
    "    1 ~ len(level)+ 1 까지 점수를 부여하는 함수\n",
    "    \n",
    "    Parameters :\n",
    "    level = 튜플 또는 리스트 타입의 숫자형 데이터이며 반드시 오름차순으로 정렬되어 있어야함.\n",
    "    예 - [1,2,3,4,5] O, [5,4,3,2,1] X, [1,3,2,10,4] X \n",
    "    data = 점수를 부여할 데이터. 순회가능한(iterable) 데이터 형식\n",
    "    return :\n",
    "    점수를 담고 있는 리스트 반환\n",
    "    '''\n",
    "    score = [] \n",
    "    for j in range(len(data)): \n",
    "        for i in range(len(level)): \n",
    "            if data[j] <= level[i]: \n",
    "                score.append(i+1) \n",
    "                break \n",
    "            elif data[j] > max(level): \n",
    "                score.append(len(level)+1) \n",
    "                break \n",
    "            else: \n",
    "                continue \n",
    "    return score\n",
    "    \n",
    "def get_rfm_grade(df, num_class, rfm_tick_point, rfm_col_map, suffix=None):\n",
    "    '''\n",
    "    Description :\n",
    "    개별 고객에 대한 최근방문일/방문횟수/구매금액 데이터가 주어졌을때\n",
    "    최근방문일/방문횟수/구매금액 점수를 계산하여 주어진 데이터 오른쪽에 붙여줍니다.\n",
    "    \n",
    "    Parameters :\n",
    "    df = pandas.DataFrame 데이터\n",
    "    num_class = 등급(점수) 개수\n",
    "    rfm_tick_point = 최근방문일/방문횟수/구매금액에 대해서 등급을 나눌 기준이 되는 값\n",
    "                    'quantile', 'min_max' 또는 리스트를 통하여 직접 값을 정할 수 있음.\n",
    "                    단, 리스트 사용시 원소의 개수는 반드시 num_class - 1 이어야함.\n",
    "                    quatile = 데이터의 분위수를 기준으로 점수를 매김\n",
    "                    min_max = 데이터의 최소값과 최대값을 동일 간격으로 나누어 점수를 매김\n",
    "    rfm_col_map = 최근방문일/방문횟수/구매금액에 대응하는 칼럼명\n",
    "    예 - {'R':'Recency','F':'Frequency','M':'Monetary'}\n",
    "    suffix = 최근방문일/방문횟수/구매금액에 대응하는 칼럼명 뒤에 붙는 접미사\n",
    "    Return : \n",
    "    pandas.DataFrame\n",
    "    '''\n",
    "    ##### 필요모듈 체크\n",
    "    import pandas as pd\n",
    "    import numpy as np\n",
    "    from sklearn import preprocessing\n",
    "    \n",
    "    ##### 파라미터 체크\n",
    "    if not isinstance(df, pd.DataFrame): ## 데이터는 pd.DataFrame이어야 함.\n",
    "        print('데이터는 pandas.DataFrame 객체여야 합니다.')\n",
    "        return\n",
    "    \n",
    "    if isinstance(rfm_tick_point, dict) == False or isinstance(rfm_col_map, dict) == False: ## rfm_tick_point와 rfm_col_map은 모두 딕셔너리\n",
    "        print(f'rfm_tick_point와 rfm_col_map은 모두 딕셔너리여야합니다.')\n",
    "        return\n",
    "    \n",
    "    if len(rfm_col_map) != 3: ## rfm_col_map에는 반드시 3개의 키를 가져아함.\n",
    "        print(f'rfm_col_map인자는 반드시 3개의 키를 가져야합니다. \\n현재 rfm_col_map에는 {len(rfm_col_map)}개의 키가 있습니다.')\n",
    "        return\n",
    "    \n",
    "    if len(rfm_tick_point) != 3: ## rfm_tick_point에는 반드시 3개의 키를 가져아함.\n",
    "        print(f'rfm_tick_point인자는 반드시 3개의 키를 가져야합니다. \\n현재 rfm_col_map에는 {len(rfm_col_map)}개의 키가 있습니다.')\n",
    "        return\n",
    "    \n",
    "    if set(rfm_tick_point.keys()) != set(rfm_col_map.keys()): ## rfm_tick_point와 rfm_col_map은 같은 키를 가져야함.\n",
    "        print(f'rfm_tick_point와 rfm_col_map은 같은 키를 가져야 합니다.')\n",
    "        return\n",
    "    \n",
    "    if not set(rfm_col_map.values()).issubset(set(df.columns)):\n",
    "        not_in_df = set(rfm_col_map.values())-set(df.columns)\n",
    "        print(f'{not_in_df}이 데이터 칼럼에 있어야 합니다.')\n",
    "        return\n",
    "    \n",
    "    for k, v in rfm_tick_point.items():\n",
    "        if isinstance(v, str):\n",
    "            if not v in ['quantile','min_max']:\n",
    "                print(f'{k}의 값은 \"quantile\" 또는 \"min_max\"중에 하나여야 합니다.')\n",
    "                return\n",
    "        elif isinstance(v,list) or isinstance(v,tuple):\n",
    "            if len(v) != num_class-1:\n",
    "                print(f'{k}에 대응하는 리스트(튜플)의 원소는 {num_class-1}개여야 합니다.')\n",
    "                return\n",
    "    \n",
    "    if suffix:\n",
    "        if not isinstance(suffix, str):\n",
    "            print('suffix인자는 문자열이어야합니다.')\n",
    "            return\n",
    "        \n",
    "    ##### 최근방문일/방문횟수/구매금액 점수 부여\n",
    "    for k, v in rfm_tick_point.items():\n",
    "        if isinstance(v,str):\n",
    "            if v == 'quantile':\n",
    "                ## 데이터 변환\n",
    "                scale = preprocessing.StandardScaler() ## 데이터의 범위 조작하기 쉽게 해주는 클래스 \n",
    "                temp_data = np.array(df[rfm_col_map[k]]) ## 데이터를 Numpy 배열로 변환\n",
    "                temp_data = temp_data.reshape((-1,1)) ## scale을 적용하기위해 1차원 배열을 2차원으로 변환\n",
    "                temp_data = scale.fit_transform(temp_data) ## 데이터를 평균은 0, 표준편차는 1을 갖도록 변환 \n",
    "                temp_data = temp_data.squeeze() ## 데이터를 다시 1차원으로 변환\n",
    " \n",
    "                ## 분위수 벡터\n",
    "                quantiles_level = np.linspace(0,1,num_class+1)[1:-1] ## 분위수를 구할 기준값을 지정 0과 1은 제외\n",
    "                quantiles = [] ## 분위수를 담을 리스트\n",
    "                for ql in quantiles_level:\n",
    "                    quantiles.append(np.quantile(temp_data,ql)) ## 분위수를 계산하고 리스트에 삽입\n",
    "            else: ## min_max인 경우\n",
    "                ## 데이터 변환\n",
    "                temp_data = np.array(df[rfm_col_map[k]])\n",
    " \n",
    "                ## 등분점 계산\n",
    "                quantiles = np.linspace(np.min(temp_data),np.max(temp_data),num_class+1)[1:-1] ## 최소값과 최대값을 점수 개수만큼 등간격으로 분할하는 점\n",
    "        else: ## 직접 구분값을 넣어주는 경우\n",
    "            temp_data = np.array(df[rfm_col_map[k]])\n",
    "            quantiles = v ## 직접 구분값을 넣어줌\n",
    "        score = get_score(quantiles, temp_data) ## 구분값을 기준으로 점수를 부여하고 리스트로 저장한다.\n",
    "        new_col_name = rfm_col_map[k]+'_'+k ## 점수값을 담는 변수의 이름\n",
    "        if suffix:\n",
    "            new_col_name = rfm_col_map[k]+'_'+suffix\n",
    "        df[new_col_name] = score ## 기존데이터 옆에 점수 데이터를 추가한다.\n",
    "    return df"
   ]
  },
  {
   "cell_type": "code",
   "execution_count": 52,
   "metadata": {},
   "outputs": [],
   "source": [
    "rfm_tick_point={'R':'quantile','F':'quantile','M':'quantile'}\n",
    "rfm_col_map={'R':'Recency','F':'Frequency','M':'Monetary'}\n",
    " \n",
    "result = get_rfm_grade(df=rfm_df, num_class=5, rfm_tick_point=rfm_tick_point, rfm_col_map=rfm_col_map)\n",
    "result.to_csv('주차장_RFM_result.csv',index=False)"
   ]
  }
 ],
 "metadata": {
  "kernelspec": {
   "display_name": "Python 3",
   "language": "python",
   "name": "python3"
  },
  "language_info": {
   "codemirror_mode": {
    "name": "ipython",
    "version": 3
   },
   "file_extension": ".py",
   "mimetype": "text/x-python",
   "name": "python",
   "nbconvert_exporter": "python",
   "pygments_lexer": "ipython3",
   "version": "3.7.4"
  }
 },
 "nbformat": 4,
 "nbformat_minor": 2
}
